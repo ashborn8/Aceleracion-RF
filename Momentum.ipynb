{
  "nbformat": 4,
  "nbformat_minor": 0,
  "metadata": {
    "colab": {
      "provenance": [],
      "gpuType": "V28",
      "authorship_tag": "ABX9TyMpOkR8Q7RE3UsmWvGKkrhQ",
      "include_colab_link": true
    },
    "kernelspec": {
      "name": "python3",
      "display_name": "Python 3"
    },
    "language_info": {
      "name": "python"
    },
    "accelerator": "TPU"
  },
  "cells": [
    {
      "cell_type": "markdown",
      "metadata": {
        "id": "view-in-github",
        "colab_type": "text"
      },
      "source": [
        "<a href=\"https://colab.research.google.com/github/ashborn8/Aceleracion-RF/blob/main/Momentum.ipynb\" target=\"_parent\"><img src=\"https://colab.research.google.com/assets/colab-badge.svg\" alt=\"Open In Colab\"/></a>"
      ]
    },
    {
      "cell_type": "markdown",
      "source": [
        "# Aceleracion del aprendizaje usando Momentum en Pytorch\n",
        "\n",
        "#Tecnicas:\n",
        "- Momentum\n",
        "\n",
        "- Decay del aprendizaje\n",
        "\n",
        "- Batch normalizacion\n",
        "\n",
        "- regularizacion\n"
      ],
      "metadata": {
        "id": "WT2nLJJyn4wC"
      }
    },
    {
      "cell_type": "code",
      "execution_count": 1,
      "metadata": {
        "id": "ss3LBZWvnCTF"
      },
      "outputs": [],
      "source": [
        "import torch\n",
        "import torch.nn as nn\n",
        "import torch.optim as optim\n",
        "\n",
        "# Definir el modelo\n",
        "class SimpleNN(nn.Module):\n",
        "    def __init__(self):\n",
        "        super(SimpleNN, self).__init__()\n",
        "        self.fc = nn.Linear(784, 10) # (784) = leer imagenes de 28x28, (10) = salidas\n",
        "\n",
        "    def forward(self, x):\n",
        "      return torch.softmax(self.fc(x), dim=1)"
      ]
    },
    {
      "cell_type": "code",
      "source": [
        "# Inicializar el modelo, criterio y optimizador\n",
        "model = SimpleNN()\n",
        "criterion = nn.CrossEntropyLoss()\n",
        "optimizer = optim.SGD(model.parameters(), lr=0.01, momentum=0.9)"
      ],
      "metadata": {
        "id": "uLB008Bmpffe"
      },
      "execution_count": 2,
      "outputs": []
    },
    {
      "cell_type": "code",
      "source": [
        "# Crear datos de entrenamiento aleatorios\n",
        "x_train = torch.randn(1000, 784)\n",
        "y_train = torch.randint(0, 10, (1000,))\n",
        "\n",
        "# Entrenamiento del modelo\n",
        "for epoch in range(10):\n",
        "    optimizer.zero_grad()\n",
        "    outputs = model(x_train)\n",
        "    loss = criterion(outputs, y_train)\n",
        "    loss.backward()\n",
        "    optimizer.step()\n",
        "\n",
        "    print(f'Epoch: [{epoch+1}/10], Loss: {loss.item():.4f}')"
      ],
      "metadata": {
        "colab": {
          "base_uri": "https://localhost:8080/"
        },
        "id": "DKOrGEdurSoN",
        "outputId": "1c70b8bf-f344-430a-8406-b2fe4768a27e"
      },
      "execution_count": 4,
      "outputs": [
        {
          "output_type": "stream",
          "name": "stdout",
          "text": [
            "Epoch: [1/10], Loss: 2.3062\n",
            "Epoch: [2/10], Loss: 2.3062\n",
            "Epoch: [3/10], Loss: 2.3060\n",
            "Epoch: [4/10], Loss: 2.3058\n",
            "Epoch: [5/10], Loss: 2.3055\n",
            "Epoch: [6/10], Loss: 2.3052\n",
            "Epoch: [7/10], Loss: 2.3048\n",
            "Epoch: [8/10], Loss: 2.3044\n",
            "Epoch: [9/10], Loss: 2.3039\n",
            "Epoch: [10/10], Loss: 2.3034\n"
          ]
        }
      ]
    }
  ]
}